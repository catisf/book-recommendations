{
 "cells": [
  {
   "cell_type": "code",
   "execution_count": 3,
   "metadata": {},
   "outputs": [
    {
     "name": "stdout",
     "output_type": "stream",
     "text": [
      "Number of unique authors: 4472\n",
      "Most frequent authors:\n",
      "authors\n",
      "William Shakespeare          50\n",
      "Stephen King                 44\n",
      "Agatha Christie              39\n",
      "John Ronald Reuel Tolkien    35\n",
      "Virginia Woolf               28\n",
      "Name: count, dtype: int64\n"
     ]
    }
   ],
   "source": [
    "import pandas as pd\n",
    "\n",
    "# Load the dataset\n",
    "df = pd.read_csv('./bookdata.csv')  \n",
    "\n",
    "# Split the 'authors' column by ';' to account for multiple authors in the same cell\n",
    "authors_expanded = df['authors'].str.split(';').explode()\n",
    "\n",
    "# Counting: number of unique authors\n",
    "unique_authors_count = authors_expanded.nunique()\n",
    "\n",
    "# Finding the most frequent authors\n",
    "most_frequent_authors = authors_expanded.value_counts().head()\n",
    "\n",
    "print(f'Number of unique authors: {unique_authors_count}')\n",
    "\n",
    "print('Most frequent authors:')\n",
    "print(most_frequent_authors)\n"
   ]
  },
  {
   "cell_type": "code",
   "execution_count": null,
   "metadata": {},
   "outputs": [],
   "source": []
  }
 ],
 "metadata": {
  "kernelspec": {
   "display_name": "Python 3 (ipykernel)",
   "language": "python",
   "name": "python3"
  },
  "language_info": {
   "codemirror_mode": {
    "name": "ipython",
    "version": 3
   },
   "file_extension": ".py",
   "mimetype": "text/x-python",
   "name": "python",
   "nbconvert_exporter": "python",
   "pygments_lexer": "ipython3",
   "version": "3.10.13"
  }
 },
 "nbformat": 4,
 "nbformat_minor": 2
}
